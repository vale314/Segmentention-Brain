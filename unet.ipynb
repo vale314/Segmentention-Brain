{
  "nbformat": 4,
  "nbformat_minor": 0,
  "metadata": {
    "colab": {
      "provenance": [],
      "include_colab_link": true
    },
    "kernelspec": {
      "name": "python3",
      "display_name": "Python 3"
    },
    "language_info": {
      "name": "python"
    },
    "accelerator": "GPU",
    "gpuClass": "standard"
  },
  "cells": [
    {
      "cell_type": "markdown",
      "metadata": {
        "id": "view-in-github",
        "colab_type": "text"
      },
      "source": [
        "<a href=\"https://colab.research.google.com/github/vale314/Segmentention-Brain/blob/test/unet.ipynb\" target=\"_parent\"><img src=\"https://colab.research.google.com/assets/colab-badge.svg\" alt=\"Open In Colab\"/></a>"
      ]
    },
    {
      "cell_type": "markdown",
      "source": [
        "# Preprocesado"
      ],
      "metadata": {
        "id": "FmU1-Ue_D3ha"
      }
    },
    {
      "cell_type": "code",
      "source": [
        "import os\n",
        "import nibabel as nib\n",
        "import numpy as np\n",
        "import matplotlib.pyplot as plt\n",
        "plt.set_cmap('gray')\n",
        "import cv2\n",
        "import glob"
      ],
      "metadata": {
        "colab": {
          "base_uri": "https://localhost:8080/",
          "height": 35
        },
        "id": "9J0MQqFS5kSt",
        "outputId": "1aafd84a-82c5-4de6-9418-5bbe09f010a2"
      },
      "execution_count": null,
      "outputs": [
        {
          "output_type": "display_data",
          "data": {
            "text/plain": [
              "<Figure size 432x288 with 0 Axes>"
            ]
          },
          "metadata": {}
        }
      ]
    },
    {
      "cell_type": "code",
      "source": [
        "!pip install pynrrd"
      ],
      "metadata": {
        "id": "yFOD29k150vY",
        "colab": {
          "base_uri": "https://localhost:8080/",
          "height": 389
        },
        "outputId": "05f553e2-738f-4348-8bff-b0481b98bb8a"
      },
      "execution_count": null,
      "outputs": [
        {
          "output_type": "stream",
          "name": "stdout",
          "text": [
            "Looking in indexes: https://pypi.org/simple, https://us-python.pkg.dev/colab-wheels/public/simple/\n",
            "Collecting pynrrd\n",
            "  Downloading pynrrd-1.0.0-py2.py3-none-any.whl (19 kB)\n",
            "Collecting nptyping\n",
            "  Downloading nptyping-2.4.1-py3-none-any.whl (36 kB)\n",
            "Requirement already satisfied: typing-extensions in /usr/local/lib/python3.7/dist-packages (from pynrrd) (4.1.1)\n",
            "Requirement already satisfied: numpy>=1.11.1 in /usr/local/lib/python3.7/dist-packages (from pynrrd) (1.21.6)\n",
            "Collecting numpy>=1.11.1\n",
            "  Downloading numpy-1.21.5-cp37-cp37m-manylinux_2_12_x86_64.manylinux2010_x86_64.whl (15.7 MB)\n",
            "\u001b[K     |████████████████████████████████| 15.7 MB 23.8 MB/s \n",
            "\u001b[?25hInstalling collected packages: numpy, nptyping, pynrrd\n",
            "  Attempting uninstall: numpy\n",
            "    Found existing installation: numpy 1.21.6\n",
            "    Uninstalling numpy-1.21.6:\n",
            "      Successfully uninstalled numpy-1.21.6\n",
            "Successfully installed nptyping-2.4.1 numpy-1.21.5 pynrrd-1.0.0\n"
          ]
        },
        {
          "output_type": "display_data",
          "data": {
            "application/vnd.colab-display-data+json": {
              "pip_warning": {
                "packages": [
                  "numpy"
                ]
              }
            }
          },
          "metadata": {}
        }
      ]
    },
    {
      "cell_type": "code",
      "source": [
        "import nrrd"
      ],
      "metadata": {
        "id": "bcA-Yb4Y6GAR"
      },
      "execution_count": null,
      "outputs": []
    },
    {
      "cell_type": "code",
      "source": [
        "DATA_INPUT_PATH = '/content/drive/MyDrive/IAIM/project/volumes/'\n",
        "IMG_INPUT_PATH = os.path.join(DATA_INPUT_PATH, 'img/')\n",
        "MASK_INPUT_PATH = os.path.join(DATA_INPUT_PATH, 'mask/')\n",
        "\n",
        "DATA_OUTPUT_PATH = '/content/drive/MyDrive/IAIM/project/slices/'\n",
        "IMG_SLICE_OUTPUT_PATH = os.path.join(DATA_OUTPUT_PATH, 'img/')\n",
        "MASK_SLICE_OUTPUT_PATH = os.path.join(DATA_OUTPUT_PATH, 'mask/')"
      ],
      "metadata": {
        "id": "BCw6vfTR7wdb"
      },
      "execution_count": null,
      "outputs": []
    },
    {
      "cell_type": "code",
      "source": [
        "img_path = os.path.join(IMG_INPUT_PATH, 'sub-001_T1w.nii.gz')\n",
        "img = nib.load(img_path).get_fdata()\n",
        "img.min(), img.max(), img.shape, type(img)"
      ],
      "metadata": {
        "colab": {
          "base_uri": "https://localhost:8080/",
          "height": 441
        },
        "id": "yw3N7dnC8f0Z",
        "outputId": "78016547-3ba5-4546-f619-fd0d2931737d"
      },
      "execution_count": null,
      "outputs": [
        {
          "output_type": "error",
          "ename": "FileNotFoundError",
          "evalue": "ignored",
          "traceback": [
            "\u001b[0;31m---------------------------------------------------------------------------\u001b[0m",
            "\u001b[0;31mFileNotFoundError\u001b[0m                         Traceback (most recent call last)",
            "\u001b[0;32m/usr/local/lib/python3.7/dist-packages/nibabel/loadsave.py\u001b[0m in \u001b[0;36mload\u001b[0;34m(filename, **kwargs)\u001b[0m\n\u001b[1;32m     41\u001b[0m     \u001b[0;32mtry\u001b[0m\u001b[0;34m:\u001b[0m\u001b[0;34m\u001b[0m\u001b[0;34m\u001b[0m\u001b[0m\n\u001b[0;32m---> 42\u001b[0;31m         \u001b[0mstat_result\u001b[0m \u001b[0;34m=\u001b[0m \u001b[0mos\u001b[0m\u001b[0;34m.\u001b[0m\u001b[0mstat\u001b[0m\u001b[0;34m(\u001b[0m\u001b[0mfilename\u001b[0m\u001b[0;34m)\u001b[0m\u001b[0;34m\u001b[0m\u001b[0;34m\u001b[0m\u001b[0m\n\u001b[0m\u001b[1;32m     43\u001b[0m     \u001b[0;32mexcept\u001b[0m \u001b[0mOSError\u001b[0m\u001b[0;34m:\u001b[0m\u001b[0;34m\u001b[0m\u001b[0;34m\u001b[0m\u001b[0m\n",
            "\u001b[0;31mFileNotFoundError\u001b[0m: [Errno 2] No such file or directory: '/content/drive/MyDrive/IAIM/project/volumes/img/sub-001_T1w.nii.gz'",
            "\nDuring handling of the above exception, another exception occurred:\n",
            "\u001b[0;31mFileNotFoundError\u001b[0m                         Traceback (most recent call last)",
            "\u001b[0;32m<ipython-input-5-27680de32b28>\u001b[0m in \u001b[0;36m<module>\u001b[0;34m\u001b[0m\n\u001b[1;32m      1\u001b[0m \u001b[0mimg_path\u001b[0m \u001b[0;34m=\u001b[0m \u001b[0mos\u001b[0m\u001b[0;34m.\u001b[0m\u001b[0mpath\u001b[0m\u001b[0;34m.\u001b[0m\u001b[0mjoin\u001b[0m\u001b[0;34m(\u001b[0m\u001b[0mIMG_INPUT_PATH\u001b[0m\u001b[0;34m,\u001b[0m \u001b[0;34m'sub-001_T1w.nii.gz'\u001b[0m\u001b[0;34m)\u001b[0m\u001b[0;34m\u001b[0m\u001b[0;34m\u001b[0m\u001b[0m\n\u001b[0;32m----> 2\u001b[0;31m \u001b[0mimg\u001b[0m \u001b[0;34m=\u001b[0m \u001b[0mnib\u001b[0m\u001b[0;34m.\u001b[0m\u001b[0mload\u001b[0m\u001b[0;34m(\u001b[0m\u001b[0mimg_path\u001b[0m\u001b[0;34m)\u001b[0m\u001b[0;34m.\u001b[0m\u001b[0mget_fdata\u001b[0m\u001b[0;34m(\u001b[0m\u001b[0;34m)\u001b[0m\u001b[0;34m\u001b[0m\u001b[0;34m\u001b[0m\u001b[0m\n\u001b[0m\u001b[1;32m      3\u001b[0m \u001b[0mimg\u001b[0m\u001b[0;34m.\u001b[0m\u001b[0mmin\u001b[0m\u001b[0;34m(\u001b[0m\u001b[0;34m)\u001b[0m\u001b[0;34m,\u001b[0m \u001b[0mimg\u001b[0m\u001b[0;34m.\u001b[0m\u001b[0mmax\u001b[0m\u001b[0;34m(\u001b[0m\u001b[0;34m)\u001b[0m\u001b[0;34m,\u001b[0m \u001b[0mimg\u001b[0m\u001b[0;34m.\u001b[0m\u001b[0mshape\u001b[0m\u001b[0;34m,\u001b[0m \u001b[0mtype\u001b[0m\u001b[0;34m(\u001b[0m\u001b[0mimg\u001b[0m\u001b[0;34m)\u001b[0m\u001b[0;34m\u001b[0m\u001b[0;34m\u001b[0m\u001b[0m\n",
            "\u001b[0;32m/usr/local/lib/python3.7/dist-packages/nibabel/loadsave.py\u001b[0m in \u001b[0;36mload\u001b[0;34m(filename, **kwargs)\u001b[0m\n\u001b[1;32m     42\u001b[0m         \u001b[0mstat_result\u001b[0m \u001b[0;34m=\u001b[0m \u001b[0mos\u001b[0m\u001b[0;34m.\u001b[0m\u001b[0mstat\u001b[0m\u001b[0;34m(\u001b[0m\u001b[0mfilename\u001b[0m\u001b[0;34m)\u001b[0m\u001b[0;34m\u001b[0m\u001b[0;34m\u001b[0m\u001b[0m\n\u001b[1;32m     43\u001b[0m     \u001b[0;32mexcept\u001b[0m \u001b[0mOSError\u001b[0m\u001b[0;34m:\u001b[0m\u001b[0;34m\u001b[0m\u001b[0;34m\u001b[0m\u001b[0m\n\u001b[0;32m---> 44\u001b[0;31m         \u001b[0;32mraise\u001b[0m \u001b[0mFileNotFoundError\u001b[0m\u001b[0;34m(\u001b[0m\u001b[0;34m\"No such file or no access: '%s'\"\u001b[0m \u001b[0;34m%\u001b[0m \u001b[0mfilename\u001b[0m\u001b[0;34m)\u001b[0m\u001b[0;34m\u001b[0m\u001b[0;34m\u001b[0m\u001b[0m\n\u001b[0m\u001b[1;32m     45\u001b[0m     \u001b[0;32mif\u001b[0m \u001b[0mstat_result\u001b[0m\u001b[0;34m.\u001b[0m\u001b[0mst_size\u001b[0m \u001b[0;34m<=\u001b[0m \u001b[0;36m0\u001b[0m\u001b[0;34m:\u001b[0m\u001b[0;34m\u001b[0m\u001b[0;34m\u001b[0m\u001b[0m\n\u001b[1;32m     46\u001b[0m         \u001b[0;32mraise\u001b[0m \u001b[0mImageFileError\u001b[0m\u001b[0;34m(\u001b[0m\u001b[0;34m\"Empty file: '%s'\"\u001b[0m \u001b[0;34m%\u001b[0m \u001b[0mfilename\u001b[0m\u001b[0;34m)\u001b[0m\u001b[0;34m\u001b[0m\u001b[0;34m\u001b[0m\u001b[0m\n",
            "\u001b[0;31mFileNotFoundError\u001b[0m: No such file or no access: '/content/drive/MyDrive/IAIM/project/volumes/img/sub-001_T1w.nii.gz'"
          ]
        }
      ]
    },
    {
      "cell_type": "code",
      "source": [
        "img_slice = img[90,:,:]\n",
        "plt.imshow(img_slice)"
      ],
      "metadata": {
        "id": "1l2yXLPf9jV2"
      },
      "execution_count": null,
      "outputs": []
    },
    {
      "cell_type": "code",
      "source": [
        "mask_path = os.path.join(MASK_INPUT_PATH, 'sub-001_T1w_mask.nrrd')\n",
        "mask = nrrd.read(mask_path)[0]\n",
        "mask.min(), mask.max(), mask.shape, type(mask)"
      ],
      "metadata": {
        "id": "ti7erMWT9saB"
      },
      "execution_count": null,
      "outputs": []
    },
    {
      "cell_type": "code",
      "source": [
        "mask_slice = mask[90,:,:]\n",
        "plt.imshow(mask_slice)"
      ],
      "metadata": {
        "id": "T8pyK7x9-Apo"
      },
      "execution_count": null,
      "outputs": []
    },
    {
      "cell_type": "code",
      "source": [
        "def normalize_image_intensity(img):\n",
        "    lmin = img.min()\n",
        "    lmax = img.max()\n",
        "    return (img-lmin) / (lmax-lmin)\n",
        "n_img = normalize_image_intensity(img)\n",
        "n_img.min(), n_img.max(), n_img.shape, type(n_img)"
      ],
      "metadata": {
        "id": "MW1ly2XG-HLu"
      },
      "execution_count": null,
      "outputs": []
    },
    {
      "cell_type": "code",
      "source": [
        "def read_image_volume(path, normalize=False):\n",
        "    try:\n",
        "        img = nib.load(path).get_fdata()\n",
        "    except:\n",
        "        print('No es un archivo .nii.gz, intentando abrir .nrrd...')\n",
        "        img = nrrd.read(path)[0]\n",
        "    if normalize:\n",
        "        return normalize_image_intensity(img)\n",
        "    return img\n",
        "read_image_volume(img_path, normalize=True)\n",
        "read_image_volume(mask_path, normalize=False)"
      ],
      "metadata": {
        "id": "DzQ6wRaV-3Hr"
      },
      "execution_count": null,
      "outputs": []
    },
    {
      "cell_type": "code",
      "source": [
        "def save_slice(img, fname, path):\n",
        "    img = np.uint(img * 255)\n",
        "    fout = os.path.join(path, f'{fname}.png')\n",
        "    cv2.imwrite(fout, img)\n",
        "    print(f'\\rCorte guardado: {fout}', end='')\n",
        "#save_slice(n_img[90,:,:], 'test', IMG_SLICE_OUTPUT_PATH)\n",
        "#save_slice(mask[90,:,:], 'test', MASK_SLICE_OUTPUT_PATH)"
      ],
      "metadata": {
        "id": "sBoJeGUX_p2R"
      },
      "execution_count": null,
      "outputs": []
    },
    {
      "cell_type": "code",
      "source": [
        "def slice_and_save_volume(vol, fname, path):\n",
        "    y, x, z = vol.shape\n",
        "    print('\\nCortes en Y...')\n",
        "    for i in range(y):\n",
        "        save_slice(vol[i,:,:], fname+f'-slice{str(i).zfill(3)}_y', path)\n",
        "    print('\\nCortes en X...')\n",
        "    for i in range(x):\n",
        "        save_slice(vol[:,i,:], fname+f'-slice{str(i).zfill(3)}_x', path)\n",
        "    print('\\nCortes en Z...')\n",
        "    for i in range(z):\n",
        "        save_slice(vol[:,:,i], fname+f'-slice{str(i).zfill(3)}_z', path)\n",
        "    return y+x+z"
      ],
      "metadata": {
        "id": "DHZVF9i5AmOF"
      },
      "execution_count": null,
      "outputs": []
    },
    {
      "cell_type": "code",
      "source": [
        "# Se crean las carpetas en colab\n",
        "!mkdir -p slices/{test/{img/img,mask/img},training/{img/img,mask/img}}"
      ],
      "metadata": {
        "id": "Qm98Taw3VJEW"
      },
      "execution_count": null,
      "outputs": []
    },
    {
      "cell_type": "code",
      "source": [
        "from skimage.transform import resize\n",
        "total_img_slices = 0\n",
        "for index, filename in enumerate(sorted(glob.iglob(IMG_INPUT_PATH+'*.nii.gz'))[:14]):\n",
        "    img = read_image_volume(filename, True)\n",
        "    img = resize(img, (180, 240, 240), order=0)\n",
        "    print(filename, img.shape, np.sum(img.shape), img.min(), img.max())\n",
        "    n_slices = slice_and_save_volume(img, 'brain'+str(index), '/content/slices/training/img/img')\n",
        "    print(f'\\n{filename}, {n_slices} cortes creados \\n')\n",
        "    total_img_slices += n_slices\n",
        "print(f'Creados {total_img_slices} en total')"
      ],
      "metadata": {
        "id": "22Jg3K9FTERZ",
        "colab": {
          "base_uri": "https://localhost:8080/"
        },
        "outputId": "5ba0e977-3b87-48b0-cf90-751f8994579c"
      },
      "execution_count": null,
      "outputs": [
        {
          "output_type": "stream",
          "name": "stdout",
          "text": [
            "Creados 0 en total\n"
          ]
        }
      ]
    },
    {
      "cell_type": "code",
      "source": [
        "total_img_slices = 0\n",
        "for index, filename in enumerate(sorted(glob.iglob(IMG_INPUT_PATH+'*.nii.gz'))[14:]):\n",
        "    img = read_image_volume(filename, True)\n",
        "    img = resize(img, (180, 240, 240), order=0)\n",
        "    print(filename, img.shape, np.sum(img.shape), img.min(), img.max())\n",
        "    n_slices = slice_and_save_volume(img, 'brain'+str(index), '/content/slices/test/img/img')\n",
        "    print(f'\\n{filename}, {n_slices} cortes creados \\n')\n",
        "    total_img_slices += n_slices\n",
        "print(f'Creados {total_img_slices} en total')"
      ],
      "metadata": {
        "id": "sPScWOUKTdda"
      },
      "execution_count": null,
      "outputs": []
    },
    {
      "cell_type": "code",
      "source": [
        "# total_img_slices = 0\n",
        "# for index, filename in enumerate(sorted(glob.iglob(IMG_INPUT_PATH+'*.nii.gz'))):\n",
        "#     img = read_image_volume(filename, True)\n",
        "#     print(filename, img.shape, np.sum(img.shape), img.min(), img.max())\n",
        "#     n_slices = slice_and_save_volume(img, 'brain'+str(index), IMG_SLICE_OUTPUT_PATH)\n",
        "#     print(f'\\n{filename}, {n_slices} cortes creados \\n')\n",
        "#     total_img_slices += n_slices\n",
        "# print(f'Creados {total_img_slices} en total')"
      ],
      "metadata": {
        "id": "HH_GqzdAToMb"
      },
      "execution_count": null,
      "outputs": []
    },
    {
      "cell_type": "code",
      "source": [
        "total_mask_slices = 0\n",
        "for index, filename in enumerate(sorted(glob.iglob(MASK_INPUT_PATH+'*.nrrd'))[:14]):\n",
        "    img = read_image_volume(filename, False)\n",
        "    img = resize(img, (180, 240, 240), order=0)\n",
        "    print(filename, img.shape, np.sum(img.shape), img.min(), img.max())\n",
        "    n_slices = slice_and_save_volume(img, 'brain'+str(index), '/content/slices/training/mask/img')\n",
        "    print(f'\\n{filename}, {n_slices} cortes creados \\n')\n",
        "    total_mask_slices += n_slices\n",
        "print(f'Creados {total_mask_slices} en total')"
      ],
      "metadata": {
        "id": "Di_kKXGaT-2R"
      },
      "execution_count": null,
      "outputs": []
    },
    {
      "cell_type": "code",
      "source": [
        "total_mask_slices = 0\n",
        "for index, filename in enumerate(sorted(glob.iglob(MASK_INPUT_PATH+'*.nrrd'))[14:]):\n",
        "    img = read_image_volume(filename, False)\n",
        "    img = resize(img, (180, 240, 240), order=0)\n",
        "    print(filename, img.shape, np.sum(img.shape), img.min(), img.max())\n",
        "    n_slices = slice_and_save_volume(img, 'brain'+str(index), '/content/slices/test/mask/img')\n",
        "    print(f'\\n{filename}, {n_slices} cortes creados \\n')\n",
        "    total_mask_slices += n_slices\n",
        "print(f'Creados {total_mask_slices} en total')"
      ],
      "metadata": {
        "id": "RBoaV6bCUEHw"
      },
      "execution_count": null,
      "outputs": []
    },
    {
      "cell_type": "code",
      "source": [
        "# total_mask_slices = 0\n",
        "# for index, filename in enumerate(sorted(glob.iglob(MASK_INPUT_PATH+'*.nrrd'))):\n",
        "#     img = read_image_volume(filename, False)\n",
        "#     print(filename, img.shape, np.sum(img.shape), img.min(), img.max())\n",
        "#     n_slices = slice_and_save_volume(img, 'brain'+str(index), MASK_SLICE_OUTPUT_PATH)\n",
        "#     print(f'\\n{filename}, {n_slices} cortes creados \\n')\n",
        "#     total_mask_slices += n_slices\n",
        "# print(f'Creados {total_mask_slices} en total')"
      ],
      "metadata": {
        "id": "D8QImf7JDM29"
      },
      "execution_count": null,
      "outputs": []
    },
    {
      "cell_type": "markdown",
      "source": [
        "# Entrenamiento"
      ],
      "metadata": {
        "id": "ZWBh4mwFECD-"
      }
    },
    {
      "cell_type": "code",
      "source": [
        "import os\n",
        "import matplotlib.pyplot as plt\n",
        "plt.set_cmap('gray')\n",
        "\n",
        "import tensorflow as tf\n",
        "from keras_preprocessing.image import ImageDataGenerator\n",
        "from tensorflow import keras"
      ],
      "metadata": {
        "id": "Kjz5JKFREDth"
      },
      "execution_count": null,
      "outputs": []
    },
    {
      "cell_type": "code",
      "source": [
        "SEED = 909\n",
        "BATCH_SIZE_TRAIN = 32\n",
        "BATCH_SIZE_TEST = 32\n",
        "\n",
        "IMG_HEIGHT = 120\n",
        "IMG_WIDTH = 120\n",
        "IMG_SIZE = IMG_HEIGHT, IMG_WIDTH\n",
        "\n",
        "DATA_DIR = '/content/slices/'\n",
        "\n",
        "DATA_DIR_TRAIN = os.path.join(DATA_DIR, 'training')\n",
        "DATA_DIR_TRAIN_IMG = os.path.join(DATA_DIR_TRAIN, 'img')\n",
        "DATA_DIR_TRAIN_MASK = os.path.join(DATA_DIR_TRAIN, 'mask')\n",
        "\n",
        "DATA_DIR_TEST = os.path.join(DATA_DIR, 'test')\n",
        "DATA_DIR_TEST_IMG = os.path.join(DATA_DIR_TEST, 'img')\n",
        "DATA_DIR_TEST_MASK = os.path.join(DATA_DIR_TEST, 'mask')"
      ],
      "metadata": {
        "id": "11YUqUKyUmzw"
      },
      "execution_count": null,
      "outputs": []
    },
    {
      "cell_type": "code",
      "source": [
        "def create_segmentation_generator_train(img_path, mask_path, BATCH_SIZE):\n",
        "    data_gen_args = dict(rescale=1./255)\n",
        "    \n",
        "    datagen = ImageDataGenerator(**data_gen_args)\n",
        "\n",
        "    img_generator = datagen.flow_from_directory(\n",
        "        img_path, target_size=IMG_SIZE, class_mode=None, \n",
        "        color_mode='grayscale', batch_size=BATCH_SIZE, \n",
        "        seed=SEED\n",
        "        )\n",
        "    \n",
        "    mask_generator = datagen.flow_from_directory(\n",
        "        mask_path, target_size=IMG_SIZE, class_mode=None, \n",
        "        color_mode='grayscale', batch_size=BATCH_SIZE, \n",
        "        seed=SEED\n",
        "        )\n",
        "\n",
        "    return zip(img_generator, mask_generator)"
      ],
      "metadata": {
        "id": "uYoqzOF6XiNn"
      },
      "execution_count": null,
      "outputs": []
    },
    {
      "cell_type": "code",
      "source": [
        "train_generator = create_segmentation_generator_train(DATA_DIR_TRAIN_IMG, DATA_DIR_TRAIN_MASK, BATCH_SIZE_TRAIN)\n",
        "test_generator = create_segmentation_generator_train(DATA_DIR_TEST_IMG, DATA_DIR_TEST_MASK, BATCH_SIZE_TEST)"
      ],
      "metadata": {
        "id": "e0no5r5IYp8Q"
      },
      "execution_count": null,
      "outputs": []
    },
    {
      "cell_type": "code",
      "source": [
        "def display(*display_list):\n",
        "    plt.figure(figsize=(15,15))\n",
        "    \n",
        "    title = ['Imagen de entrada', 'Máscara verdadera', 'Predicción']\n",
        "    \n",
        "    for i in range(len(display_list)):\n",
        "        plt.subplot(1, len(display_list), i+1)\n",
        "        plt.title(title[i])\n",
        "        plt.imshow(tf.keras.preprocessing.image.array_to_img(display_list[i]), cmap='gray')\n",
        "    plt.show()"
      ],
      "metadata": {
        "id": "ATVcKKzncHQx"
      },
      "execution_count": null,
      "outputs": []
    },
    {
      "cell_type": "code",
      "source": [
        "def show_dataset(datagen, num=1):\n",
        "    for i in range(0,num):\n",
        "        image, mask = next(datagen)\n",
        "        display(image[0], mask[0])"
      ],
      "metadata": {
        "id": "G6u08On2cVIG"
      },
      "execution_count": null,
      "outputs": []
    },
    {
      "cell_type": "code",
      "source": [
        "show_dataset(train_generator, 2)"
      ],
      "metadata": {
        "id": "bHcbrDRWceFa"
      },
      "execution_count": null,
      "outputs": []
    },
    {
      "cell_type": "code",
      "source": [
        "def unet(n_levels, initial_features=32, n_blocks=2, kernel_size=3, pooling_size=2, in_channels=1, out_channels=1):\n",
        "    inputs = keras.layers.Input(shape=(IMG_HEIGHT, IMG_WIDTH, in_channels))\n",
        "    x = inputs\n",
        "    \n",
        "    convpars = dict(kernel_size=kernel_size, activation='relu', padding='same')\n",
        "    \n",
        "    # downstream\n",
        "    skips = {}\n",
        "    for level in range(n_levels):\n",
        "        for _ in range(n_blocks):\n",
        "            x = keras.layers.Conv2D(initial_features * 2 ** level, **convpars)(x)\n",
        "        if level < n_levels - 1:\n",
        "            skips[level] = x\n",
        "            x = keras.layers.MaxPool2D(pooling_size)(x)\n",
        "            \n",
        "    # upstream\n",
        "    for level in reversed(range(n_levels-1)):\n",
        "        x = keras.layers.Conv2DTranspose(initial_features * 2 ** level, strides=pooling_size, **convpars)(x)\n",
        "        x = keras.layers.Concatenate()([x, skips[level]])\n",
        "        for _ in range(n_blocks):\n",
        "            x = keras.layers.Conv2D(initial_features * 2 ** level, **convpars)(x)\n",
        "            \n",
        "    # output\n",
        "    activation = 'sigmoid' if out_channels == 1 else 'softmax'\n",
        "    x = keras.layers.Conv2D(out_channels, kernel_size=1, activation=activation, padding='same')(x)\n",
        "    \n",
        "    return keras.Model(inputs=[inputs], outputs=[x], name=f'UNET-L{n_levels}-F{initial_features}')\n",
        "\n",
        "NUM_TRAIN = 9240\n",
        "NUM_TEST = 3960\n",
        "\n",
        "EPOCH_STEP_TRAIN = NUM_TRAIN // BATCH_SIZE_TRAIN\n",
        "EPOCH_STEP_TEST = NUM_TEST // BATCH_SIZE_TEST\n",
        "\n",
        "model = unet(4)\n",
        "model.compile(optimizer='adam', loss='binary_crossentropy', metrics=['accuracy'])"
      ],
      "metadata": {
        "id": "LHmrspXucpSL"
      },
      "execution_count": null,
      "outputs": []
    },
    {
      "cell_type": "code",
      "source": [
        "model.summary()"
      ],
      "metadata": {
        "id": "x4AX3tnIi4Qt"
      },
      "execution_count": null,
      "outputs": []
    },
    {
      "cell_type": "code",
      "source": [
        "NUM_OF_EPOCHS = 100"
      ],
      "metadata": {
        "id": "TegqQPMzi9HO"
      },
      "execution_count": null,
      "outputs": []
    },
    {
      "cell_type": "code",
      "source": [
        "model.fit(\n",
        "    train_generator,\n",
        "    steps_per_epoch=EPOCH_STEP_TRAIN,\n",
        "    validation_data=test_generator,\n",
        "    validation_steps=EPOCH_STEP_TEST,\n",
        "    epochs=NUM_OF_EPOCHS\n",
        "    )"
      ],
      "metadata": {
        "id": "kKbgd8qA7qwW"
      },
      "execution_count": null,
      "outputs": []
    },
    {
      "cell_type": "code",
      "source": [
        "model.save(f'/content/drive/MyDrive/IAIM/project/UNET-BrainSegmentation_{IMG_HEIGHT}_{IMG_WIDTH}.h5')"
      ],
      "metadata": {
        "id": "Qx1DaPfCZ5YM"
      },
      "execution_count": null,
      "outputs": []
    },
    {
      "cell_type": "code",
      "source": [
        "def create_segmentation_generator_test(img_path, msk_path, BATCH_SIZE):\n",
        "    data_gen_args = dict(rescale=1./255)\n",
        "    datagen = ImageDataGenerator(**data_gen_args)\n",
        "    \n",
        "    img_generator = datagen.flow_from_directory(\n",
        "        img_path,\n",
        "        target_size=IMG_SIZE,\n",
        "        class_mode=None,\n",
        "        color_mode='grayscale',\n",
        "        batch_size=BATCH_SIZE, seed=SEED\n",
        "    )\n",
        "    msk_generator = datagen.flow_from_directory(msk_path, target_size=IMG_SIZE, class_mode=None, color_mode='grayscale', batch_size=BATCH_SIZE, seed=SEED)\n",
        "    return zip(img_generator, msk_generator)"
      ],
      "metadata": {
        "id": "awZIAo_W-H7P"
      },
      "execution_count": null,
      "outputs": []
    },
    {
      "cell_type": "code",
      "source": [
        "test_generator = create_segmentation_generator_test(DATA_DIR_TEST_IMG, DATA_DIR_TEST_MASK, 1)"
      ],
      "metadata": {
        "id": "g1fj8gLH80Qh"
      },
      "execution_count": null,
      "outputs": []
    },
    {
      "cell_type": "code",
      "source": [
        "\n",
        "def show_prediction(datagen, num=1):\n",
        "    for i in range(0,num):\n",
        "        image, mask = next(datagen)\n",
        "        pred_mask = model.predict(image)[0]\n",
        "        print(pred_mask.max())\n",
        "        display (image[0], mask[0], pred_mask)"
      ],
      "metadata": {
        "id": "R34cnzJt-eYb"
      },
      "execution_count": null,
      "outputs": []
    },
    {
      "cell_type": "code",
      "source": [
        "show_prediction(test_generator, 3)"
      ],
      "metadata": {
        "id": "kLdqCx4g-izA"
      },
      "execution_count": null,
      "outputs": []
    }
  ]
}